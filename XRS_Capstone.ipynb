{
 "cells": [
  {
   "cell_type": "code",
   "execution_count": 1,
   "metadata": {},
   "outputs": [],
   "source": [
    "%matplotlib inline"
   ]
  },
  {
   "cell_type": "markdown",
   "metadata": {},
   "source": [
    "\n",
    "# Reading and plotting XRS data\n",
    "Purpose:\n",
    "   Python example of netcdf and plot commands for use with GOES-R EXIS files\n"
   ]
  },
  {
   "cell_type": "code",
   "execution_count": 1,
   "metadata": {},
   "outputs": [],
   "source": [
    "import netCDF4 as nc\n",
    "import numpy as np\n",
    "import cftime\n",
    "import matplotlib.pyplot as plt\n",
    "from datetime import datetime\n",
    "import os\n",
    "import requests\n",
    "\n",
    "num_vars = 2\n",
    "make_plot = 1"
   ]
  },
  {
   "cell_type": "markdown",
   "metadata": {},
   "source": [
    "- Relevant data files can be downloaded [here](https://data.ngdc.noaa.gov/platforms/solar-space-observing-satellites/goes/goes16/l2/data/xrsf-l2-avg1m_science/2020/06/)_.\n",
    "  To run this code, it may be necessary to update the filename version string (“v2-1-0”) to match available files.\n",
    "- Other data links and information about EXIS data can be found [here](https://www.ngdc.noaa.gov/stp/satellite/goes-r.html)_\n",
    "\n"
   ]
  },
  {
   "cell_type": "code",
   "execution_count": 2,
   "metadata": {},
   "outputs": [],
   "source": [
    "dir0 = \"./\"\n",
    "file0 = \"sci_xrsf-l2-flsum_g16_s20170209_e20240218_v2-2-0.nc\"\n",
    "\n",
    "# Download `file0` if it does not exist locally\n",
    "if not os.path.exists(dir0 + file0):\n",
    "    with open(dir0 + file0, \"wb\") as f:\n",
    "        url_path = \"https://data.ngdc.noaa.gov/platforms/solar-space-observing-satellites/goes/goes16/l2/data/xrsf-l2-flsum_science/\"\n",
    "        r = requests.get(url_path + file0)\n",
    "        f.write(r.content)"
   ]
  },
  {
   "cell_type": "markdown",
   "metadata": {},
   "source": [
    "Open netcdf file for reading data\n",
    "\n"
   ]
  },
  {
   "cell_type": "code",
   "execution_count": 3,
   "metadata": {},
   "outputs": [],
   "source": [
    "# filepath='/Users/anilareddy/Downloads/sci_xrsf-l2-flsum_g18_s20220905_e20240210_v2-2-0.nc'\n",
    "# file0=\"sci_xrsf-l2-flsum_g18_s20220905_e20240210_v2-2-0.nc\""
   ]
  },
  {
   "cell_type": "code",
   "execution_count": 4,
   "metadata": {},
   "outputs": [],
   "source": [
    "# ff = nc.Dataset(filepath)"
   ]
  },
  {
   "cell_type": "code",
   "execution_count": 5,
   "metadata": {},
   "outputs": [],
   "source": [
    "# with nc.Dataset(filepath, 'r') as ff:\n",
    "#     # Now you can access and work with the contents of the NetCDF file using the 'ff' object\n",
    "#     # For example, you can print the dimensions, variables, or attributes of the NetCDF file\n",
    "#     print(\"Dimensions:\", ff.dimensions)\n",
    "#     print('')\n",
    "#     print(\"Variables:\", ff.variables)\n",
    "#     print('')\n",
    "#     print(\"Attributes:\", ff.ncattrs())"
   ]
  },
  {
   "cell_type": "markdown",
   "metadata": {},
   "source": [
    "This netCDF dataset contains solar flare information, focusing on various variables recorded over time. The 'xrsb_flux' variable represents the averaged flux for XRS-B in units of W/m². The 'status' variable is a flag associated with 'xrsb_flux,' indicating events such as the start, peak, decline, and post-event phases of a solar flare. Time-related data is stored in the 'time' variable, represented in seconds since January 1, 2000. Other variables include 'background_flux' (background flux recorded at the start of a flare), 'flare_class' (class of flare recorded at the peak), 'integrated_flux' (integrated flux since the start of an event), and 'flare_id' (unique identifier for a flare detection based on the time of the event). The dataset attributes provide additional metadata, including information about the dataset's conventions, title, keywords, and more."
   ]
  },
  {
   "cell_type": "code",
   "execution_count": 6,
   "metadata": {},
   "outputs": [],
   "source": [
    "ff = nc.Dataset(dir0 + file0)"
   ]
  },
  {
   "cell_type": "code",
   "execution_count": 7,
   "metadata": {},
   "outputs": [
    {
     "name": "stdout",
     "output_type": "stream",
     "text": [
      "The file has 36756 rows of data.\n"
     ]
    }
   ],
   "source": [
    "# with nc.Dataset(dir0 + file0, 'r') as ff:\n",
    "    # Choose a variable from the file, e.g., assuming 'data_variable' is the variable you are interested in\n",
    "data_variable = ff.variables['status']\n",
    "\n",
    "# Get the dimensions of the variable\n",
    "dimensions = data_variable.dimensions\n",
    "\n",
    "# Find the size of the first dimension (assuming it represents rows)\n",
    "num_rows = len(ff.dimensions[dimensions[0]])\n",
    "\n",
    "# Print the number of rows\n",
    "print(f\"The file has {num_rows} rows of data.\")"
   ]
  },
  {
   "cell_type": "code",
   "execution_count": 8,
   "metadata": {},
   "outputs": [
    {
     "name": "stdout",
     "output_type": "stream",
     "text": [
      "The file has 9915 rows with the status event peak.\n"
     ]
    }
   ],
   "source": [
    "data_variable = ff.variables['status']\n",
    "\n",
    "# Check the values of the 'status' variable to identify the peak event\n",
    "peak_event_rows = [i for i, value in enumerate(data_variable[:]) if value == 'EVENT_PEAK']\n",
    "\n",
    "# Get the dimensions of the variable\n",
    "dimensions = data_variable.dimensions\n",
    "\n",
    "# Find the size of the first dimension (assuming it represents rows)\n",
    "num_rows = len(ff.dimensions[dimensions[0]])\n",
    "\n",
    "# Print the number of rows with the status event peak\n",
    "print(f\"The file has {len(peak_event_rows)} rows with the status event peak.\")\n"
   ]
  },
  {
   "cell_type": "markdown",
   "metadata": {},
   "source": [
    "Time conversion\n",
    "\n"
   ]
  },
  {
   "cell_type": "code",
   "execution_count": 9,
   "metadata": {},
   "outputs": [],
   "source": [
    "# from netCDF4 import num2date\n",
    "# with nc.Dataset(filepath, 'r') as ff:\n",
    "#     time_var = ff.variables[\"time\"]\n",
    "#     time_data = time_var[:]\n",
    "#     time_units = time_var.units\n",
    "\n",
    "#     # Convert the numeric time values to Python datetime objects using netCDF4\n",
    "#     datetime0 = num2date(time_data, time_units)\n",
    "\n",
    "# print(\"Start time in file [{}]: {:.0f} seconds since 2000-01-01 12:00:00\".format(time_units, time_data[0]))\n",
    "# print(\"End time in file [{}]: {:.0f} seconds since 2000-01-01 12:00:00\".format(time_units, time_data[-1]))"
   ]
  },
  {
   "cell_type": "code",
   "execution_count": 10,
   "metadata": {},
   "outputs": [
    {
     "name": "stdout",
     "output_type": "stream",
     "text": [
      "Filename:   sci_xrsf-l2-flsum_g16_s20170209_e20240218_v2-2-0.nc\n",
      "start time in file [seconds since 2000-01-01 12:00:00]: 539872860.0\n",
      "start and end times: 2017-02-09 00:41:00 2024-02-18 23:56:00\n"
     ]
    }
   ],
   "source": [
    "datetime0 = cftime.num2pydate(ff.variables[\"time\"][:], ff[\"time\"].units)\n",
    "print(\"Filename:  \", file0)\n",
    "print(\"start time in file [{}]: {}\".format(ff[\"time\"].units, ff.variables[\"time\"][0]))\n",
    "print(\"start and end times:\", datetime0[0], datetime0[-1])"
   ]
  },
  {
   "cell_type": "code",
   "execution_count": 11,
   "metadata": {},
   "outputs": [
    {
     "name": "stdout",
     "output_type": "stream",
     "text": [
      "start and end times: 2017-02-09 00:41:00 2024-02-18 23:56:00\n"
     ]
    }
   ],
   "source": [
    "print(\"start and end times:\", datetime0[0], datetime0[-1])"
   ]
  },
  {
   "cell_type": "code",
   "execution_count": 12,
   "metadata": {},
   "outputs": [
    {
     "name": "stdout",
     "output_type": "stream",
     "text": [
      "start and end times: [real_datetime(2017, 2, 9, 0, 41) real_datetime(2017, 2, 9, 0, 50)\n",
      " real_datetime(2017, 2, 9, 0, 57) real_datetime(2017, 2, 9, 1, 13)\n",
      " real_datetime(2017, 2, 9, 1, 30) real_datetime(2017, 2, 9, 1, 40)\n",
      " real_datetime(2017, 2, 9, 1, 44) real_datetime(2017, 2, 9, 1, 45)\n",
      " real_datetime(2017, 2, 9, 1, 51) real_datetime(2017, 2, 9, 1, 56)\n",
      " real_datetime(2017, 2, 9, 2, 31) real_datetime(2017, 2, 9, 2, 40)\n",
      " real_datetime(2017, 2, 9, 2, 49) real_datetime(2017, 2, 9, 2, 55)\n",
      " real_datetime(2017, 2, 9, 2, 55) real_datetime(2017, 2, 9, 2, 59)\n",
      " real_datetime(2017, 2, 9, 3, 3) real_datetime(2017, 2, 9, 3, 9)\n",
      " real_datetime(2017, 2, 9, 3, 16) real_datetime(2017, 2, 9, 3, 21)\n",
      " real_datetime(2017, 2, 9, 3, 26) real_datetime(2017, 2, 9, 3, 30)\n",
      " real_datetime(2017, 2, 9, 3, 41) real_datetime(2017, 2, 9, 5, 26)\n",
      " real_datetime(2017, 2, 9, 5, 42) real_datetime(2017, 2, 9, 5, 50)\n",
      " real_datetime(2017, 2, 9, 6, 3) real_datetime(2017, 2, 9, 6, 12)\n",
      " real_datetime(2017, 2, 9, 6, 16) real_datetime(2017, 2, 9, 6, 28)\n",
      " real_datetime(2017, 2, 9, 6, 35) real_datetime(2017, 2, 9, 6, 40)\n",
      " real_datetime(2017, 2, 9, 6, 51) real_datetime(2017, 2, 9, 7, 2)\n",
      " real_datetime(2017, 2, 9, 7, 6) real_datetime(2017, 2, 9, 7, 31)\n",
      " real_datetime(2017, 2, 9, 7, 39) real_datetime(2017, 2, 9, 7, 43)\n",
      " real_datetime(2017, 2, 9, 7, 56) real_datetime(2017, 2, 9, 8, 13)\n",
      " real_datetime(2017, 2, 9, 8, 45) real_datetime(2017, 2, 9, 8, 53)\n",
      " real_datetime(2017, 2, 9, 8, 57) real_datetime(2017, 2, 9, 8, 58)\n",
      " real_datetime(2017, 2, 9, 9, 29) real_datetime(2017, 2, 9, 9, 37)\n",
      " real_datetime(2017, 2, 9, 9, 41) real_datetime(2017, 2, 9, 10, 12)\n",
      " real_datetime(2017, 2, 9, 10, 27) real_datetime(2017, 2, 9, 10, 35)]\n"
     ]
    }
   ],
   "source": [
    "print(\"start and end times:\", datetime0[:50])"
   ]
  },
  {
   "cell_type": "code",
   "execution_count": 13,
   "metadata": {},
   "outputs": [
    {
     "name": "stdout",
     "output_type": "stream",
     "text": [
      "The file has 36756 rows of data.\n"
     ]
    }
   ],
   "source": [
    "print(f\"The file has {num_rows} rows of data.\")"
   ]
  },
  {
   "cell_type": "markdown",
   "metadata": {},
   "source": [
    "Print some variable names and values\n",
    "\n"
   ]
  },
  {
   "cell_type": "code",
   "execution_count": 14,
   "metadata": {},
   "outputs": [
    {
     "name": "stdout",
     "output_type": "stream",
     "text": [
      "xrsb_flux[0]: 1.11465e-07\n",
      "status[0]: EVENT_START\n"
     ]
    }
   ],
   "source": [
    "for ii in np.arange(num_vars):\n",
    "    var = list(ff.variables.keys())[ii]\n",
    "    val = ff.variables[var][:]\n",
    "#     print(\"{}[0]: {:8g}\".format(var, val[0]))\n",
    "    # Check if the variable is a string type\n",
    "    if isinstance(val[0], str):\n",
    "        print(\"{}[0]: {:<s}\".format(var, val[0]))\n",
    "    else:\n",
    "        print(\"{}[0]: {:8g}\".format(var, val[0]))"
   ]
  },
  {
   "cell_type": "markdown",
   "metadata": {},
   "source": [
    "Print a global attribute\n",
    "\n"
   ]
  },
  {
   "cell_type": "code",
   "execution_count": 15,
   "metadata": {},
   "outputs": [
    {
     "name": "stdout",
     "output_type": "stream",
     "text": [
      "satellite:  g16\n"
     ]
    }
   ],
   "source": [
    "platform = getattr(ff, \"platform\")\n",
    "print(\"satellite: \", platform)"
   ]
  },
  {
   "cell_type": "markdown",
   "metadata": {},
   "source": [
    "Print all variable names\n",
    "\n"
   ]
  },
  {
   "cell_type": "code",
   "execution_count": 16,
   "metadata": {},
   "outputs": [
    {
     "name": "stdout",
     "output_type": "stream",
     "text": [
      "\n",
      "All variable names\n",
      "['xrsb_flux', 'status', 'time', 'background_flux', 'flare_class', 'integrated_flux', 'flare_id'] \n",
      "\n"
     ]
    }
   ],
   "source": [
    "print(\"\\nAll variable names\")\n",
    "print(list(ff.variables.keys()), \"\\n\")"
   ]
  },
  {
   "cell_type": "code",
   "execution_count": 17,
   "metadata": {},
   "outputs": [
    {
     "name": "stdout",
     "output_type": "stream",
     "text": [
      "Variable Names:\n",
      "dict_keys(['xrsb_flux', 'status', 'time', 'background_flux', 'flare_class', 'integrated_flux', 'flare_id'])\n",
      "\n",
      "First 10 rows of Variables:\n",
      "\n",
      "Variable: xrsb_flux\n",
      "[1.1146541e-07 3.8009338e-07 2.3251106e-07 1.1515114e-07 9.8932944e-08\n",
      " 4.3950894e-07 1.4835997e-07 1.3171240e-07 1.7020639e-06 7.5962191e-07]\n",
      "\n",
      "Variable: status\n",
      "['EVENT_START' 'EVENT_PEAK' 'EVENT_END' 'POST_EVENT' 'EVENT_START'\n",
      " 'EVENT_PEAK' 'EVENT_END' 'EVENT_START' 'EVENT_PEAK' 'EVENT_END']\n",
      "\n",
      "Variable: time\n",
      "[5.3987286e+08 5.3987340e+08 5.3987382e+08 5.3987478e+08 5.3987580e+08\n",
      " 5.3987640e+08 5.3987664e+08 5.3987670e+08 5.3987706e+08 5.3987736e+08]\n",
      "\n",
      "Variable: background_flux\n",
      "[1.1591767901109051e-07 1.1591767901109051e-07 1.1591767901109051e-07 --\n",
      " 1.0725744914452662e-07 1.0725744914452662e-07 1.0725744914452662e-07\n",
      " 1.7688651610114903e-07 1.7688651610114903e-07 1.7688651610114903e-07]\n",
      "\n",
      "Variable: flare_class\n",
      "['' 'B3.8' '' '' '' 'B4.3' '' '' 'C1.7' '']\n",
      "\n",
      "Variable: integrated_flux\n",
      "[5.558239354286343e-05 0.0001947354176081717 0.000253504142165184 --\n",
      " 6.68917055008933e-05 0.00016007688827812672 0.0001689784839982167\n",
      " 0.00010035762534243986 0.0005462471744976938 0.0006480473675765097]\n",
      "\n",
      "Variable: flare_id\n",
      "[201702090041 201702090041 201702090041 201702090041 201702090130\n",
      " 201702090130 201702090130 201702090145 201702090145 201702090145]\n"
     ]
    }
   ],
   "source": [
    "with nc.Dataset(dir0 + file0, 'r') as ds:\n",
    "    # Display variable names\n",
    "    print(\"Variable Names:\")\n",
    "    print(ds.variables.keys())\n",
    "\n",
    "    # Display the first 10 rows of each variable (you might need to adjust the variable names)\n",
    "    print(\"\\nFirst 10 rows of Variables:\")\n",
    "    for var_name, var in ds.variables.items():\n",
    "        print(f\"\\nVariable: {var_name}\")\n",
    "        print(var[:10])"
   ]
  },
  {
   "cell_type": "markdown",
   "metadata": {},
   "source": [
    "Plot 1 day of XRS data\n",
    "\n"
   ]
  },
  {
   "cell_type": "code",
   "execution_count": 18,
   "metadata": {},
   "outputs": [
    {
     "data": {
      "image/png": "[encoded data removed]",
      "text/plain": [
       "<Figure size 1000x700 with 1 Axes>"
      ]
     },
     "metadata": {},
     "output_type": "display_data"
    }
   ],
   "source": [
    "var_name = [\"xrsb_flux\"]\n",
    "if make_plot:\n",
    "    chan_color = [\"mediumorchid\", \"green\", \"darkviolet\", \"indigo\", \"b\",\n",
    "                  \"darkcyan\", \"greenyellow\", \"yellow\", \"gold\", \"orange\",\n",
    "                  \"orangered\", \"darkred\"][:num_vars]\n",
    "    \n",
    "    plt.figure(0, figsize=[10, 7])\n",
    "    \n",
    "    plt.plot(\n",
    "        datetime0[:],\n",
    "        ff.variables[var_name[0]][:],\n",
    "        linewidth=1,\n",
    "        color=chan_color[0],  # Assuming num_vars is 1\n",
    "        label=\"{} {}\".format(platform, var_name[0]),\n",
    "    )    \n",
    "    plt.yscale(\"log\")\n",
    "    plt.legend(loc=\"upper right\", prop={\"size\": 12})\n",
    "    plt.xlabel(\"Time [UT]\")\n",
    "    plt.ylabel(\"X-Ray Flux [{}]\".format(ff.variables[var_name[0]].units))\n",
    "    plt.show()"
   ]
  },
  {
   "cell_type": "code",
   "execution_count": 19,
   "metadata": {},
   "outputs": [],
   "source": [
    "import pandas as pd"
   ]
  },
  {
   "cell_type": "code",
   "execution_count": 20,
   "metadata": {},
   "outputs": [
    {
     "name": "stdout",
     "output_type": "stream",
     "text": [
      "      xrsb_flux       status         time  background_flux flare_class  \\\n",
      "0  1.114654e-07  EVENT_START  539872860.0     1.159177e-07               \n",
      "1  3.800934e-07   EVENT_PEAK  539873400.0     1.159177e-07        B3.8   \n",
      "2  2.325111e-07    EVENT_END  539873820.0     1.159177e-07               \n",
      "3  1.151511e-07   POST_EVENT  539874780.0              NaN               \n",
      "4  9.893294e-08  EVENT_START  539875800.0     1.072574e-07               \n",
      "\n",
      "   integrated_flux      flare_id  \n",
      "0         0.000056  201702090041  \n",
      "1         0.000195  201702090041  \n",
      "2         0.000254  201702090041  \n",
      "3              NaN  201702090041  \n",
      "4         0.000067  201702090130  \n"
     ]
    }
   ],
   "source": [
    "with nc.Dataset(dir0 + file0, 'r') as ff:\n",
    "    # Create an empty dictionary to store data\n",
    "    data_dict = {}\n",
    "\n",
    "    # Iterate over all variables in the file\n",
    "    for variable_name, variable in ff.variables.items():\n",
    "        # Get the data for each variable\n",
    "        data_dict[variable_name] = variable[:]\n",
    "\n",
    "# Convert the dictionary to a Pandas DataFrame\n",
    "df = pd.DataFrame(data_dict)\n",
    "\n",
    "# Save the DataFrame to a CSV file\n",
    "csv_filename = \"output.csv\"\n",
    "df.to_csv(csv_filename, index=False)\n",
    "\n",
    "# Print the DataFrame\n",
    "print(df.head())"
   ]
  },
  {
   "cell_type": "code",
   "execution_count": 21,
   "metadata": {},
   "outputs": [],
   "source": [
    "# Add the datetime column to the DataFrame\n",
    "df['datetime'] = datetime0\n",
    "\n",
    "# Save the DataFrame to a CSV file\n",
    "csv_filename = \"output.csv\"\n",
    "df.to_csv(csv_filename, index=False)"
   ]
  },
  {
   "cell_type": "code",
   "execution_count": 22,
   "metadata": {
    "scrolled": true
   },
   "outputs": [
    {
     "data": {
      "text/html": [
       "<div>\n",
       "<style scoped>\n",
       "    .dataframe tbody tr th:only-of-type {\n",
       "        vertical-align: middle;\n",
       "    }\n",
       "\n",
       "    .dataframe tbody tr th {\n",
       "        vertical-align: top;\n",
       "    }\n",
       "\n",
       "    .dataframe thead th {\n",
       "        text-align: right;\n",
       "    }\n",
       "</style>\n",
       "<table border=\"1\" class=\"dataframe\">\n",
       "  <thead>\n",
       "    <tr style=\"text-align: right;\">\n",
       "      <th></th>\n",
       "      <th>xrsb_flux</th>\n",
       "      <th>status</th>\n",
       "      <th>time</th>\n",
       "      <th>background_flux</th>\n",
       "      <th>flare_class</th>\n",
       "      <th>integrated_flux</th>\n",
       "      <th>flare_id</th>\n",
       "      <th>datetime</th>\n",
       "    </tr>\n",
       "  </thead>\n",
       "  <tbody>\n",
       "    <tr>\n",
       "      <th>0</th>\n",
       "      <td>1.114654e-07</td>\n",
       "      <td>EVENT_START</td>\n",
       "      <td>539872860.0</td>\n",
       "      <td>1.159177e-07</td>\n",
       "      <td></td>\n",
       "      <td>0.000056</td>\n",
       "      <td>201702090041</td>\n",
       "      <td>2017-02-09 00:41:00</td>\n",
       "    </tr>\n",
       "    <tr>\n",
       "      <th>1</th>\n",
       "      <td>3.800934e-07</td>\n",
       "      <td>EVENT_PEAK</td>\n",
       "      <td>539873400.0</td>\n",
       "      <td>1.159177e-07</td>\n",
       "      <td>B3.8</td>\n",
       "      <td>0.000195</td>\n",
       "      <td>201702090041</td>\n",
       "      <td>2017-02-09 00:50:00</td>\n",
       "    </tr>\n",
       "    <tr>\n",
       "      <th>2</th>\n",
       "      <td>2.325111e-07</td>\n",
       "      <td>EVENT_END</td>\n",
       "      <td>539873820.0</td>\n",
       "      <td>1.159177e-07</td>\n",
       "      <td></td>\n",
       "      <td>0.000254</td>\n",
       "      <td>201702090041</td>\n",
       "      <td>2017-02-09 00:57:00</td>\n",
       "    </tr>\n",
       "    <tr>\n",
       "      <th>3</th>\n",
       "      <td>1.151511e-07</td>\n",
       "      <td>POST_EVENT</td>\n",
       "      <td>539874780.0</td>\n",
       "      <td>NaN</td>\n",
       "      <td></td>\n",
       "      <td>NaN</td>\n",
       "      <td>201702090041</td>\n",
       "      <td>2017-02-09 01:13:00</td>\n",
       "    </tr>\n",
       "    <tr>\n",
       "      <th>4</th>\n",
       "      <td>9.893294e-08</td>\n",
       "      <td>EVENT_START</td>\n",
       "      <td>539875800.0</td>\n",
       "      <td>1.072574e-07</td>\n",
       "      <td></td>\n",
       "      <td>0.000067</td>\n",
       "      <td>201702090130</td>\n",
       "      <td>2017-02-09 01:30:00</td>\n",
       "    </tr>\n",
       "  </tbody>\n",
       "</table>\n",
       "</div>"
      ],
      "text/plain": [
       "      xrsb_flux       status         time  background_flux flare_class  \\\n",
       "0  1.114654e-07  EVENT_START  539872860.0     1.159177e-07               \n",
       "1  3.800934e-07   EVENT_PEAK  539873400.0     1.159177e-07        B3.8   \n",
       "2  2.325111e-07    EVENT_END  539873820.0     1.159177e-07               \n",
       "3  1.151511e-07   POST_EVENT  539874780.0              NaN               \n",
       "4  9.893294e-08  EVENT_START  539875800.0     1.072574e-07               \n",
       "\n",
       "   integrated_flux      flare_id            datetime  \n",
       "0         0.000056  201702090041 2017-02-09 00:41:00  \n",
       "1         0.000195  201702090041 2017-02-09 00:50:00  \n",
       "2         0.000254  201702090041 2017-02-09 00:57:00  \n",
       "3              NaN  201702090041 2017-02-09 01:13:00  \n",
       "4         0.000067  201702090130 2017-02-09 01:30:00  "
      ]
     },
     "execution_count": 22,
     "metadata": {},
     "output_type": "execute_result"
    }
   ],
   "source": [
    "df.head()"
   ]
  },
  {
   "cell_type": "code",
   "execution_count": 23,
   "metadata": {},
   "outputs": [
    {
     "name": "stdout",
     "output_type": "stream",
     "text": [
      "          xrsb_flux         time  background_flux flare_class  \\\n",
      "1      3.800934e-07  539873400.0     1.159177e-07        B3.8   \n",
      "5      4.395089e-07  539876400.0     1.072574e-07        B4.3   \n",
      "8      1.702064e-06  539877060.0     1.768865e-07        C1.7   \n",
      "11     3.296319e-07  539880000.0     2.076109e-07        B3.2   \n",
      "15     3.911416e-07  539881140.0     1.970752e-07        B3.9   \n",
      "...             ...          ...              ...         ...   \n",
      "36741  5.076468e-06  761501100.0     2.278236e-06        C5.0   \n",
      "36743  4.665297e-06  761502060.0     4.300563e-06        C4.6   \n",
      "36747  2.619681e-06  761530080.0     1.507425e-06        C2.6   \n",
      "36751  1.739972e-06  761571240.0     1.270661e-06        C1.7   \n",
      "36753  1.788331e-06  761572260.0     1.531539e-06        C1.7   \n",
      "\n",
      "       integrated_flux            datetime  \n",
      "1             0.000195 2017-02-09 00:50:00  \n",
      "5             0.000160 2017-02-09 01:40:00  \n",
      "8             0.000546 2017-02-09 01:51:00  \n",
      "11            0.000216 2017-02-09 02:40:00  \n",
      "15            0.000146 2017-02-09 02:59:00  \n",
      "...                ...                 ...  \n",
      "36741         0.008205 2024-02-18 04:05:00  \n",
      "36743         0.001875 2024-02-18 04:21:00  \n",
      "36747         0.001542 2024-02-18 12:08:00  \n",
      "36751         0.000949 2024-02-18 23:34:00  \n",
      "36753         0.001266 2024-02-18 23:51:00  \n",
      "\n",
      "[9915 rows x 6 columns]\n"
     ]
    }
   ],
   "source": [
    "# Create a new DataFrame with only \"EVENT_PEAK\" status\n",
    "df_peak = df[df['status'] == 'EVENT_PEAK'].copy()\n",
    "\n",
    "# Remove the \"flare_status\" column from the new DataFrame\n",
    "df_peak.drop(columns=['status', 'flare_id'], inplace=True)\n",
    "\n",
    "# Display the new DataFrame\n",
    "print(df_peak)"
   ]
  },
  {
   "cell_type": "code",
   "execution_count": 24,
   "metadata": {},
   "outputs": [],
   "source": [
    "csv_filename = \"peaks.csv\"\n",
    "df_peak.to_csv(csv_filename, index=False)"
   ]
  },
  {
   "cell_type": "markdown",
   "metadata": {},
   "source": [
    "## **Plot the flare frequency vs peak flux**"
   ]
  },
  {
   "cell_type": "code",
   "execution_count": 42,
   "metadata": {},
   "outputs": [],
   "source": [
    "#This plot will tell us the number of flares in each \"bin\" over 6 years \n",
    "n_bins =  30\n",
    "\n",
    "bin_edge = np.geomspace(1e-8, 9e-3, n_bins+1) # Define bin edges logarithmically spaced apart\n",
    "\n",
    "# Split peak irradiances into x number of bins\n",
    "# the variable hist contains the total # of flares in each bin\n",
    "# bin_edges contains the edge irradiance values of each of the bins\n",
    "hist, bin_edges = np.histogram(df_peak['xrsb_flux'], bins=bin_edge)\n",
    "\n",
    "# Let's also calculate some properties of the histogram bins which we will use later\n",
    "\n",
    "# Calculate bin widths from the bin edges\n",
    "bin_widths = np.diff(bin_edges)\n",
    "\n",
    "# Calculate bin centers from bin edges \n",
    "bin_centers = bin_edges[:-1] + np.diff(bin_edges)/2\n"
   ]
  },
  {
   "cell_type": "code",
   "execution_count": 43,
   "metadata": {},
   "outputs": [
    {
     "data": {
      "image/png": "[encoded data removed]",
      "text/plain": [
       "<Figure size 640x480 with 1 Axes>"
      ]
     },
     "metadata": {},
     "output_type": "display_data"
    }
   ],
   "source": [
    "# Two adjustments to the data\n",
    "\n",
    "#Calculate for a single year instead of 6 years\n",
    "num_flares_per_year = hist/6\n",
    "\n",
    "# Calculate the number of flares over 6 years per bin width\n",
    "num_flares_per_year_per_binwidth = num_flares_per_year/bin_widths\n",
    "\n",
    "# Plot\n",
    "plt.plot(bin_centers, num_flares_per_year_per_binwidth, '.')\n",
    "plt.xlabel('Peak Irradiance (W/m^2)')\n",
    "plt.ylabel('Flare Frequency (#/year/(W/m^2))')\n",
    "\n",
    "plt.show()"
   ]
  },
  {
   "cell_type": "code",
   "execution_count": null,
   "metadata": {},
   "outputs": [],
   "source": [
    "# Assuming you have already calculated hist, bin_edges, bin_widths, and bin_centers\n",
    "\n",
    "# Calculate for a single year instead of 6 years\n",
    "num_flares_per_year = hist / 6\n",
    "\n",
    "# Calculate the number of flares over 6 years per bin width\n",
    "num_flares_per_year_per_binwidth = num_flares_per_year / bin_widths\n",
    "\n",
    "# Plot the histogram on log-log scale\n",
    "plt.bar(bin_centers, num_flares_per_year_per_binwidth, width=bin_widths, edgecolor='black')\n",
    "plt.xscale('log')\n",
    "plt.yscale('log')\n",
    "plt.xlabel('Peak Irradiance (W/m^2)')\n",
    "plt.ylabel('Flare Frequency (#/year/(W/m^2))')\n",
    "plt.show()\n"
   ]
  },
  {
   "cell_type": "markdown",
   "metadata": {},
   "source": [
    "# log plotting and cleaning the data"
   ]
  },
  {
   "cell_type": "code",
   "execution_count": 46,
   "metadata": {},
   "outputs": [
    {
     "data": {
      "image/png": "[encoded data removed]",
      "text/plain": [
       "<Figure size 640x480 with 1 Axes>"
      ]
     },
     "metadata": {},
     "output_type": "display_data"
    }
   ],
   "source": [
    "import matplotlib.pyplot as plt\n",
    "\n",
    "plt.plot(bin_centers, num_flares_per_year_per_binwidth, '.')\n",
    "plt.xlabel('Peak Irradiance (W/m^2)')\n",
    "plt.ylabel('Flare Frequency (#/year/(W/m^2))')\n",
    "plt.xscale('log')\n",
    "plt.yscale('log')\n",
    "plt.show()"
   ]
  },
  {
   "cell_type": "code",
   "execution_count": 47,
   "metadata": {},
   "outputs": [
    {
     "data": {
      "text/plain": [
       "array([0.00000000e+00, 0.00000000e+00, 0.00000000e+00, 0.00000000e+00,\n",
       "       0.00000000e+00, 1.80646295e+09, 1.43486190e+09, 9.26128816e+08,\n",
       "       5.98295207e+08, 3.91062270e+08, 3.22103791e+08, 2.67906800e+08,\n",
       "       1.66526524e+08, 7.36724052e+07, 2.76820966e+07, 9.46130375e+06,\n",
       "       2.93773807e+06, 8.51030119e+05, 4.92665459e+05, 1.31601595e+05,\n",
       "       4.01204682e+04, 1.36787348e+04, 4.94917865e+03, 0.00000000e+00,\n",
       "       0.00000000e+00, 3.14086224e+02, 1.98872227e+02, 0.00000000e+00,\n",
       "       0.00000000e+00, 0.00000000e+00])"
      ]
     },
     "metadata": {},
     "output_type": "display_data"
    }
   ],
   "source": [
    "display(num_flares_per_year_per_binwidth)"
   ]
  },
  {
   "cell_type": "markdown",
   "metadata": {},
   "source": [
    "There are 0's in the data and since we will be taking log of the data, we need to remove them"
   ]
  },
  {
   "cell_type": "code",
   "execution_count": 48,
   "metadata": {},
   "outputs": [
    {
     "name": "stdout",
     "output_type": "stream",
     "text": [
      "[1.80646295e+09 1.43486190e+09 9.26128816e+08 5.98295207e+08\n",
      " 3.91062270e+08 3.22103791e+08 2.67906800e+08 1.66526524e+08\n",
      " 7.36724052e+07 2.76820966e+07 9.46130375e+06 2.93773807e+06\n",
      " 8.51030119e+05 4.92665459e+05 1.31601595e+05 4.01204682e+04\n",
      " 1.36787348e+04 4.94917865e+03 3.14086224e+02 1.98872227e+02]\n"
     ]
    }
   ],
   "source": [
    "import numpy as np\n",
    "\n",
    "# Assuming num_flares_per_year_per_binwidth is your array\n",
    "num_flares_per_year_per_binwidth = num_flares_per_year_per_binwidth[num_flares_per_year_per_binwidth != 0]\n",
    "\n",
    "# Display the array without zeros\n",
    "print(num_flares_per_year_per_binwidth)\n"
   ]
  },
  {
   "cell_type": "code",
   "execution_count": 45,
   "metadata": {},
   "outputs": [
    {
     "data": {
      "text/plain": [
       "array([1.80646295e+09, 1.43486190e+09, 9.26128816e+08, 5.98295207e+08,\n",
       "       3.91062270e+08, 3.22103791e+08, 2.67906800e+08, 1.66526524e+08,\n",
       "       7.36724052e+07, 2.76820966e+07, 9.46130375e+06, 2.93773807e+06,\n",
       "       8.51030119e+05, 4.92665459e+05, 1.31601595e+05, 4.01204682e+04,\n",
       "       1.36787348e+04, 4.94917865e+03, 3.14086224e+02, 1.98872227e+02])"
      ]
     },
     "metadata": {},
     "output_type": "display_data"
    }
   ],
   "source": [
    "import numpy as np\n",
    "\n",
    "# List of the indices where # of flares per bin width is zero\n",
    "index_of_zeros = np.where(num_flares_per_year_per_binwidth == 0)\n",
    "\n",
    "# Delete the elements in bin_centers and num_of_flares_per_binwidth based on the\n",
    "#  list of indices where um_of_flares_per_binwidth has a zero value\n",
    "num_flares_per_year_per_binwidth = np.delete(num_flares_per_year_per_binwidth, index_of_zeros)\n",
    "bin_centers = np.delete(bin_centers, index_of_zeros)\n",
    "bin_edges = np.delete(bin_edges, index_of_zeros[0]+1)\n",
    "\n",
    "display(num_flares_per_year_per_binwidth)"
   ]
  },
  {
   "cell_type": "markdown",
   "metadata": {},
   "source": [
    "# Finding the power law"
   ]
  },
  {
   "cell_type": "code",
   "execution_count": 46,
   "metadata": {},
   "outputs": [],
   "source": [
    "import numpy as np\n",
    "import scipy.stats as stats"
   ]
  },
  {
   "cell_type": "markdown",
   "metadata": {},
   "source": [
    "# Linear regression"
   ]
  },
  {
   "cell_type": "markdown",
   "metadata": {},
   "source": [
    "We now can find a power law by fitting the linear region shown on the log-log plot. To find the power-law relationship, we will also need to fit the line to the **log of the data** rather than to the raw data itself."
   ]
  },
  {
   "cell_type": "code",
   "execution_count": 47,
   "metadata": {},
   "outputs": [
    {
     "data": {
      "text/plain": [
       "-2.1570006270741704"
      ]
     },
     "metadata": {},
     "output_type": "display_data"
    },
    {
     "data": {
      "text/plain": [
       "-8.685280633081073"
      ]
     },
     "metadata": {},
     "output_type": "display_data"
    },
    {
     "data": {
      "text/plain": [
       "-0.9969966753529202"
      ]
     },
     "metadata": {},
     "output_type": "display_data"
    },
    {
     "data": {
      "text/plain": [
       "4.873895883028732e-09"
      ]
     },
     "metadata": {},
     "output_type": "display_data"
    },
    {
     "data": {
      "text/plain": [
       "0.06332823035732356"
      ]
     },
     "metadata": {},
     "output_type": "display_data"
    }
   ],
   "source": [
    "\n",
    "## Define the x and y data for the linear regression\n",
    "x =  np.log(bin_centers[11:29])   \n",
    "y =  np.log(num_flares_per_year_per_binwidth[11:29])  \n",
    "\n",
    "PI2F_slope, PI2F_intercept, PI2F_r_value, PI2F_p_value, PI2F_std_err = stats.linregress(x, y)\n",
    "\n",
    "display(PI2F_slope, PI2F_intercept, PI2F_r_value, PI2F_p_value, PI2F_std_err)"
   ]
  },
  {
   "cell_type": "markdown",
   "metadata": {},
   "source": [
    "Now, let's calcuate the best fit curve for the original data by \"undoing\" the log:"
   ]
  },
  {
   "cell_type": "code",
   "execution_count": 48,
   "metadata": {},
   "outputs": [],
   "source": [
    "import numpy as np\n",
    "\n",
    "## Calculate the best fit line using the slope and intercept given by the linear \n",
    "## regression function above.   \n",
    "PI2F_best_fit_line = np.exp(PI2F_slope*np.log(bin_centers[11:29])+PI2F_intercept)\n"
   ]
  },
  {
   "cell_type": "markdown",
   "metadata": {},
   "source": [
    " Plot the `num_flares_per_year_per_binwidth` data versus `bin_centers` along with the best fit curve to visualize the fit. We suggest plotting in log-log scale, which will make both the data and the best-fit curve appear linear."
   ]
  },
  {
   "cell_type": "code",
   "execution_count": 49,
   "metadata": {},
   "outputs": [
    {
     "data": {
      "image/png": "[encoded data removed]",
      "text/plain": [
       "<Figure size 640x480 with 1 Axes>"
      ]
     },
     "metadata": {},
     "output_type": "display_data"
    }
   ],
   "source": [
    "import matplotlib.pyplot as plt\n",
    "\n",
    "## Plot the bin_centers versus flare_per_year_per_binwidth data and the best fit  \n",
    "## line on the same graph to visualize the fit. Note, that we need to take the  \n",
    "## exponential of the linear fit in order to translate it to a power law fit. \n",
    "\n",
    "plt.plot(bin_centers, num_flares_per_year_per_binwidth, '.')\n",
    "plt.plot(bin_centers[11:29], PI2F_best_fit_line)#note the bin range here\n",
    "plt.xscale('log')\n",
    "plt.yscale('log')\n",
    "plt.xlabel('Peak Irradiance (W/m^2)')\n",
    "plt.ylabel('Flare Frequency (#/year/(W/m^2)')\n",
    "plt.legend(['Histogram data', 'Linear fit'])\n",
    "\n",
    "plt.show()"
   ]
  },
  {
   "cell_type": "markdown",
   "metadata": {},
   "source": [
    "# Maximum Likelihood Estimate"
   ]
  },
  {
   "cell_type": "code",
   "execution_count": 50,
   "metadata": {},
   "outputs": [],
   "source": [
    "def calculate_alpha_and_sigma_with_mle(x, x_min):\n",
    "  n = len(x)\n",
    "  alpha = 1 + n / np.sum(np.log(x/x_min))\n",
    "  sigma = ((alpha - 1) / np.sqrt(n)) + (1/n)\n",
    "  return alpha, sigma"
   ]
  },
  {
   "cell_type": "code",
   "execution_count": 51,
   "metadata": {},
   "outputs": [
    {
     "name": "stdout",
     "output_type": "stream",
     "text": [
      "2.3121013631071925 ± 0.026972551731566163\n"
     ]
    }
   ],
   "source": [
    "data = df_peak['xrsb_flux']\n",
    "x_min = 3.5e-6\n",
    "indices = np.where(data > x_min)\n",
    "alpha_peaks, sigma_peaks = calculate_alpha_and_sigma_with_mle(data.iloc[indices], x_min)\n",
    "print(alpha_peaks, '±', sigma_peaks)"
   ]
  },
  {
   "cell_type": "markdown",
   "metadata": {},
   "source": [
    "# Powerlaw package"
   ]
  },
  {
   "cell_type": "code",
   "execution_count": 52,
   "metadata": {},
   "outputs": [
    {
     "name": "stdout",
     "output_type": "stream",
     "text": [
      "Collecting powerlaw\n",
      "  Downloading powerlaw-1.5-py3-none-any.whl.metadata (9.3 kB)\n",
      "Requirement already satisfied: scipy in /Users/anilareddy/anaconda3/lib/python3.11/site-packages (from powerlaw) (1.10.1)\n",
      "Requirement already satisfied: numpy in /Users/anilareddy/anaconda3/lib/python3.11/site-packages (from powerlaw) (1.26.2)\n",
      "Requirement already satisfied: matplotlib in /Users/anilareddy/anaconda3/lib/python3.11/site-packages (from powerlaw) (3.7.1)\n",
      "Requirement already satisfied: mpmath in /Users/anilareddy/anaconda3/lib/python3.11/site-packages (from powerlaw) (1.3.0)\n",
      "Requirement already satisfied: contourpy>=1.0.1 in /Users/anilareddy/anaconda3/lib/python3.11/site-packages (from matplotlib->powerlaw) (1.0.5)\n",
      "Requirement already satisfied: cycler>=0.10 in /Users/anilareddy/anaconda3/lib/python3.11/site-packages (from matplotlib->powerlaw) (0.11.0)\n",
      "Requirement already satisfied: fonttools>=4.22.0 in /Users/anilareddy/anaconda3/lib/python3.11/site-packages (from matplotlib->powerlaw) (4.25.0)\n",
      "Requirement already satisfied: kiwisolver>=1.0.1 in /Users/anilareddy/anaconda3/lib/python3.11/site-packages (from matplotlib->powerlaw) (1.4.4)\n",
      "Requirement already satisfied: packaging>=20.0 in /Users/anilareddy/anaconda3/lib/python3.11/site-packages (from matplotlib->powerlaw) (23.0)\n",
      "Requirement already satisfied: pillow>=6.2.0 in /Users/anilareddy/anaconda3/lib/python3.11/site-packages (from matplotlib->powerlaw) (9.4.0)\n",
      "Requirement already satisfied: pyparsing>=2.3.1 in /Users/anilareddy/anaconda3/lib/python3.11/site-packages (from matplotlib->powerlaw) (3.0.9)\n",
      "Requirement already satisfied: python-dateutil>=2.7 in /Users/anilareddy/anaconda3/lib/python3.11/site-packages (from matplotlib->powerlaw) (2.8.2)\n",
      "Requirement already satisfied: six>=1.5 in /Users/anilareddy/anaconda3/lib/python3.11/site-packages (from python-dateutil>=2.7->matplotlib->powerlaw) (1.16.0)\n",
      "Downloading powerlaw-1.5-py3-none-any.whl (24 kB)\n",
      "Installing collected packages: powerlaw\n",
      "Successfully installed powerlaw-1.5\n",
      "\n",
      "\u001b[1m[\u001b[0m\u001b[34;49mnotice\u001b[0m\u001b[1;39;49m]\u001b[0m\u001b[39;49m A new release of pip is available: \u001b[0m\u001b[31;49m23.3.1\u001b[0m\u001b[39;49m -> \u001b[0m\u001b[32;49m24.0\u001b[0m\n",
      "\u001b[1m[\u001b[0m\u001b[34;49mnotice\u001b[0m\u001b[1;39;49m]\u001b[0m\u001b[39;49m To update, run: \u001b[0m\u001b[32;49m/Users/anilareddy/anaconda3/bin/python -m pip install --upgrade pip\u001b[0m\n",
      "Note: you may need to restart the kernel to use updated packages.\n"
     ]
    }
   ],
   "source": [
    "pip install powerlaw"
   ]
  },
  {
   "cell_type": "code",
   "execution_count": 55,
   "metadata": {},
   "outputs": [
    {
     "name": "stdout",
     "output_type": "stream",
     "text": [
      "Calculating best minimal value for power law fit\n",
      "2.3680986707853693 ± 0.03210402603003846\n",
      "4.504964635998476e-06\n"
     ]
    }
   ],
   "source": [
    "import powerlaw\n",
    "data = df_peak['xrsb_flux'].values\n",
    "results = powerlaw.Fit(data)\n",
    "print(results.power_law.alpha, '±', results.power_law.sigma)\n",
    "print(results.power_law.xmin)"
   ]
  },
  {
   "cell_type": "markdown",
   "metadata": {},
   "source": [
    "# Comapring 3 Methods"
   ]
  },
  {
   "cell_type": "code",
   "execution_count": 56,
   "metadata": {},
   "outputs": [
    {
     "name": "stdout",
     "output_type": "stream",
     "text": [
      "Linear fit: -2.1570006270741704 ± 0.06332823035732356\n",
      "D'Huys+ 2016 equations: 2.3121013631071925 ± 0.026972551731566163\n",
      "`powerlaw` package 2.3680986707853693 ± 0.03210402603003846\n"
     ]
    }
   ],
   "source": [
    "print('Linear fit:', PI2F_slope, '±', PI2F_std_err)\n",
    "print(\"D'Huys+ 2016 equations:\", alpha_peaks, '±', sigma_peaks)\n",
    "print('`powerlaw` package', results.power_law.alpha, '±', results.power_law.sigma)"
   ]
  },
  {
   "cell_type": "code",
   "execution_count": null,
   "metadata": {},
   "outputs": [],
   "source": []
  }
 ],
 "metadata": {
  "kernelspec": {
   "display_name": "Python 3 (ipykernel)",
   "language": "python",
   "name": "python3"
  },
  "language_info": {
   "codemirror_mode": {
    "name": "ipython",
    "version": 3
   },
   "file_extension": ".py",
   "mimetype": "text/x-python",
   "name": "python",
   "nbconvert_exporter": "python",
   "pygments_lexer": "ipython3",
   "version": "3.11.4"
  }
 },
 "nbformat": 4,
 "nbformat_minor": 1
}
